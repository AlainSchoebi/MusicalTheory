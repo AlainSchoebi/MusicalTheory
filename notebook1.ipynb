{
 "cells": [
  {
   "cell_type": "markdown",
   "metadata": {},
   "source": [
    "<div class=\"alert alert-success\" role=\"alert\">\n",
    "  <h4 class=\"alert-heading\">Bienvenue</h4>\n",
    "    asdfasdfhave <i>any</i> asdfasdf\n",
    "</div>"
   ]
  },
  {
   "cell_type": "markdown",
   "metadata": {},
   "source": [
    "## Imports"
   ]
  },
  {
   "cell_type": "code",
   "execution_count": 225,
   "metadata": {},
   "outputs": [],
   "source": [
    "# This is a comment\n",
    "# First we import built-in libraries\n",
    "import random                  \n",
    "from fractions import Fraction   \n",
    "\n",
    "# Then some 3rd party libraries\n",
    "import numpy as np\n",
    "import pandas as pd\n",
    "import matplotlib.pyplot as plt\n",
    "from music21 import chord, corpus, environment, meter, midi, note, stream, tempo"
   ]
  },
  {
   "cell_type": "markdown",
   "metadata": {},
   "source": [
    "### MuseScore3 Windows"
   ]
  },
  {
   "cell_type": "code",
   "execution_count": 2,
   "metadata": {},
   "outputs": [],
   "source": [
    "# Windows (adapt Program Files)\n",
    "musescore_executable = r'C:\\Program Files\\MuseScore 3\\bin\\MuseScore3.exe'\n",
    "\n",
    "environment.set('musescoreDirectPNGPath', musescore_executable)\n",
    "environment.set('musicxmlPath', musescore_executable)\n",
    "environment.set('autoDownload', 'allow')"
   ]
  },
  {
   "cell_type": "markdown",
   "metadata": {},
   "source": [
    "### MuseScore3 Mac"
   ]
  },
  {
   "cell_type": "code",
   "execution_count": 3,
   "metadata": {},
   "outputs": [
    {
     "ename": "UserSettingsException",
     "evalue": "attempting to set a value to a path that does not exist: \\Applications\\MuseScore 3.app\\Contents\\MacOS\\mscore",
     "output_type": "error",
     "traceback": [
      "\u001b[1;31m---------------------------------------------------------------------------\u001b[0m",
      "\u001b[1;31mUserSettingsException\u001b[0m                     Traceback (most recent call last)",
      "\u001b[1;32m<ipython-input-3-16c7e1384a41>\u001b[0m in \u001b[0;36m<module>\u001b[1;34m\u001b[0m\n\u001b[0;32m      2\u001b[0m \u001b[0mmusescore_executable\u001b[0m \u001b[1;33m=\u001b[0m \u001b[1;34m'/Applications/MuseScore 3.app/Contents/MacOS/mscore'\u001b[0m\u001b[1;33m\u001b[0m\u001b[1;33m\u001b[0m\u001b[0m\n\u001b[0;32m      3\u001b[0m \u001b[1;33m\u001b[0m\u001b[0m\n\u001b[1;32m----> 4\u001b[1;33m \u001b[0menvironment\u001b[0m\u001b[1;33m.\u001b[0m\u001b[0mset\u001b[0m\u001b[1;33m(\u001b[0m\u001b[1;34m'musescoreDirectPNGPath'\u001b[0m\u001b[1;33m,\u001b[0m \u001b[0mmusescore_executable\u001b[0m\u001b[1;33m)\u001b[0m\u001b[1;33m\u001b[0m\u001b[1;33m\u001b[0m\u001b[0m\n\u001b[0m\u001b[0;32m      5\u001b[0m \u001b[0menvironment\u001b[0m\u001b[1;33m.\u001b[0m\u001b[0mset\u001b[0m\u001b[1;33m(\u001b[0m\u001b[1;34m'musicxmlPath'\u001b[0m\u001b[1;33m,\u001b[0m \u001b[0mmusescore_executable\u001b[0m\u001b[1;33m)\u001b[0m\u001b[1;33m\u001b[0m\u001b[1;33m\u001b[0m\u001b[0m\n\u001b[0;32m      6\u001b[0m \u001b[0menvironment\u001b[0m\u001b[1;33m.\u001b[0m\u001b[0mset\u001b[0m\u001b[1;33m(\u001b[0m\u001b[1;34m'autoDownload'\u001b[0m\u001b[1;33m,\u001b[0m \u001b[1;34m'allow'\u001b[0m\u001b[1;33m)\u001b[0m\u001b[1;33m\u001b[0m\u001b[1;33m\u001b[0m\u001b[0m\n",
      "\u001b[1;32m~\\anaconda3\\envs\\algo\\lib\\site-packages\\music21\\environment.py\u001b[0m in \u001b[0;36mset\u001b[1;34m(key, value)\u001b[0m\n\u001b[0;32m   1367\u001b[0m     \u001b[1;32mexcept\u001b[0m \u001b[0mUserSettingsException\u001b[0m\u001b[1;33m:\u001b[0m\u001b[1;33m\u001b[0m\u001b[1;33m\u001b[0m\u001b[0m\n\u001b[0;32m   1368\u001b[0m         \u001b[1;32mpass\u001b[0m  \u001b[1;31m# this means it already exists\u001b[0m\u001b[1;33m\u001b[0m\u001b[1;33m\u001b[0m\u001b[0m\n\u001b[1;32m-> 1369\u001b[1;33m     \u001b[0mus\u001b[0m\u001b[1;33m[\u001b[0m\u001b[0mkey\u001b[0m\u001b[1;33m]\u001b[0m \u001b[1;33m=\u001b[0m \u001b[0mvalue\u001b[0m  \u001b[1;31m# this may raise an exception\u001b[0m\u001b[1;33m\u001b[0m\u001b[1;33m\u001b[0m\u001b[0m\n\u001b[0m\u001b[0;32m   1370\u001b[0m \u001b[1;33m\u001b[0m\u001b[0m\n\u001b[0;32m   1371\u001b[0m \u001b[1;33m\u001b[0m\u001b[0m\n",
      "\u001b[1;32m~\\anaconda3\\envs\\algo\\lib\\site-packages\\music21\\environment.py\u001b[0m in \u001b[0;36m__setitem__\u001b[1;34m(self, key, value)\u001b[0m\n\u001b[0;32m   1266\u001b[0m                 \u001b[0mvalue\u001b[0m \u001b[1;33m=\u001b[0m \u001b[0mcommon\u001b[0m\u001b[1;33m.\u001b[0m\u001b[0mcleanpath\u001b[0m\u001b[1;33m(\u001b[0m\u001b[0mvalue\u001b[0m\u001b[1;33m,\u001b[0m \u001b[0mreturnPathlib\u001b[0m\u001b[1;33m=\u001b[0m\u001b[1;32mFalse\u001b[0m\u001b[1;33m)\u001b[0m\u001b[1;33m\u001b[0m\u001b[1;33m\u001b[0m\u001b[0m\n\u001b[0;32m   1267\u001b[0m                 \u001b[1;32mif\u001b[0m \u001b[1;32mnot\u001b[0m \u001b[0mos\u001b[0m\u001b[1;33m.\u001b[0m\u001b[0mpath\u001b[0m\u001b[1;33m.\u001b[0m\u001b[0mexists\u001b[0m\u001b[1;33m(\u001b[0m\u001b[0mvalue\u001b[0m\u001b[1;33m)\u001b[0m\u001b[1;33m:\u001b[0m\u001b[1;33m\u001b[0m\u001b[1;33m\u001b[0m\u001b[0m\n\u001b[1;32m-> 1268\u001b[1;33m                     raise UserSettingsException(\n\u001b[0m\u001b[0;32m   1269\u001b[0m                         f'attempting to set a value to a path that does not exist: {value}')\n\u001b[0;32m   1270\u001b[0m         \u001b[1;31m# when setting a local corpus setting, if not a list, append\u001b[0m\u001b[1;33m\u001b[0m\u001b[1;33m\u001b[0m\u001b[1;33m\u001b[0m\u001b[0m\n",
      "\u001b[1;31mUserSettingsException\u001b[0m: attempting to set a value to a path that does not exist: \\Applications\\MuseScore 3.app\\Contents\\MacOS\\mscore"
     ]
    }
   ],
   "source": [
    "# Mac path\n",
    "musescore_executable = '/Applications/MuseScore 3.app/Contents/MacOS/mscore'\n",
    "\n",
    "environment.set('musescoreDirectPNGPath', musescore_executable)\n",
    "environment.set('musicxmlPath', musescore_executable)\n",
    "environment.set('autoDownload', 'allow')"
   ]
  },
  {
   "cell_type": "markdown",
   "metadata": {},
   "source": [
    "# Tools"
   ]
  },
  {
   "cell_type": "code",
   "execution_count": 278,
   "metadata": {},
   "outputs": [],
   "source": [
    "# function to return key for any value\n",
    "def getKeyFromValue(_dictionnary, _value):\n",
    "    for key, value in _dictionnary.items():\n",
    "         if _value == value:\n",
    "             return key\n",
    " \n",
    "    return None; #doesn't exist"
   ]
  },
  {
   "cell_type": "code",
   "execution_count": null,
   "metadata": {},
   "outputs": [],
   "source": []
  },
  {
   "cell_type": "markdown",
   "metadata": {},
   "source": [
    "# Play"
   ]
  },
  {
   "cell_type": "code",
   "execution_count": 3,
   "metadata": {},
   "outputs": [],
   "source": [
    "def play(score):\n",
    "    #Shortcut to play a stream\n",
    "    midi.realtime.StreamPlayer(score).play();"
   ]
  },
  {
   "cell_type": "code",
   "execution_count": null,
   "metadata": {},
   "outputs": [],
   "source": []
  },
  {
   "cell_type": "code",
   "execution_count": null,
   "metadata": {},
   "outputs": [],
   "source": []
  },
  {
   "cell_type": "markdown",
   "metadata": {},
   "source": [
    "# Notes"
   ]
  },
  {
   "cell_type": "code",
   "execution_count": 72,
   "metadata": {},
   "outputs": [
    {
     "data": {
      "image/png": "[encoded data removed]",
      "text/plain": [
       "<IPython.core.display.Image object>"
      ]
     },
     "metadata": {
      "image/png": {
       "height": 57,
       "width": 674
      }
     },
     "output_type": "display_data"
    }
   ],
   "source": [
    "notes = [['C'], ['C#', 'Db5'], ['D5'], ['D#', 'Eb'], ['E'], ['F'], ['F#', 'Gb'], ['G'], ['G#','Ab'], ['A'], ['A#','Bb'], ['B']]\n",
    "m = stream.Measure()\n",
    "m.append([chord.Chord([note.Note(name) for name in pitch_class]) for pitch_class in notes]);\n",
    "\n",
    "m.show();\n",
    "play(m);"
   ]
  },
  {
   "cell_type": "code",
   "execution_count": null,
   "metadata": {},
   "outputs": [],
   "source": []
  },
  {
   "cell_type": "code",
   "execution_count": null,
   "metadata": {},
   "outputs": [],
   "source": []
  },
  {
   "cell_type": "code",
   "execution_count": null,
   "metadata": {},
   "outputs": [],
   "source": []
  },
  {
   "cell_type": "markdown",
   "metadata": {},
   "source": [
    "# Minor scale"
   ]
  },
  {
   "cell_type": "code",
   "execution_count": 73,
   "metadata": {},
   "outputs": [],
   "source": [
    "n = note.Note(pitch = 57)"
   ]
  },
  {
   "cell_type": "code",
   "execution_count": null,
   "metadata": {},
   "outputs": [],
   "source": []
  },
  {
   "cell_type": "code",
   "execution_count": 74,
   "metadata": {},
   "outputs": [
    {
     "data": {
      "image/png": "[encoded data removed]",
      "text/plain": [
       "<IPython.core.display.Image object>"
      ]
     },
     "metadata": {
      "image/png": {
       "height": 60,
       "width": 250
      }
     },
     "output_type": "display_data"
    }
   ],
   "source": [
    "m = stream.Measure()\n",
    "m.append(n)\n",
    "m.append(chord.Chord([note.Note('C'), note.Note('D')]));\n",
    "m.show()\n",
    "play(m)"
   ]
  },
  {
   "cell_type": "code",
   "execution_count": null,
   "metadata": {},
   "outputs": [],
   "source": []
  },
  {
   "cell_type": "code",
   "execution_count": 75,
   "metadata": {},
   "outputs": [],
   "source": [
    "n = note.Note(pitch = 57)"
   ]
  },
  {
   "cell_type": "code",
   "execution_count": null,
   "metadata": {},
   "outputs": [],
   "source": []
  },
  {
   "cell_type": "markdown",
   "metadata": {},
   "source": [
    "## Scales / Chords"
   ]
  },
  {
   "cell_type": "code",
   "execution_count": null,
   "metadata": {},
   "outputs": [],
   "source": []
  },
  {
   "cell_type": "code",
   "execution_count": 76,
   "metadata": {},
   "outputs": [],
   "source": [
    "def isSameNoteWithoutOctave(note1, note2):\n",
    "    \n",
    "    if note1.pitch.name == note2.pitch.name: \n",
    "        return True;\n",
    "    \n",
    "    # To lose the octave information\n",
    "    n1 = note.Note(pitch = note1.pitch.name);\n",
    "    n2 = note.Note(pitch = note2.pitch.name);\n",
    "    \n",
    "    if n1.pitch.frequency == n2.pitch.frequency:\n",
    "        return True;\n",
    "    \n",
    "    return False;"
   ]
  },
  {
   "cell_type": "code",
   "execution_count": 77,
   "metadata": {},
   "outputs": [
    {
     "name": "stdout",
     "output_type": "stream",
     "text": [
      "True\n"
     ]
    }
   ],
   "source": [
    "d = note.Note(\"D#3\");\n",
    "e = note.Note(\"Eb5\");\n",
    "\n",
    "print(isSameNoteWithoutOctave(d,e));"
   ]
  },
  {
   "cell_type": "markdown",
   "metadata": {},
   "source": [
    "### Scale"
   ]
  },
  {
   "cell_type": "code",
   "execution_count": 289,
   "metadata": {},
   "outputs": [],
   "source": [
    "# Scales interval dictionnary\n",
    "scalesIntervalDictionnary = {\n",
    "  \"major\": [0,2,4,5,7,9,11],\n",
    "  \"minor\": [0,2,3,5,7,8,10],\n",
    "  \"dorian\": [0,3,7] ##\n",
    "}\n",
    "\n",
    "# Scale\n",
    "class Scale:\n",
    "    \n",
    "    # Constructor\n",
    "    def __init__(self, _baseNote = note.Note('C4'), _interval = scalesIntervalDictionnary[\"major\"]):\n",
    "        self.baseNote = _baseNote;\n",
    "        self.interval = _interval;\n",
    "    \n",
    "    # Transposes the base note (of i semi tones)\n",
    "    def baseTranspose(self, i):\n",
    "        return self.baseNote.transpose(i);\n",
    "    \n",
    "    # Gets the ith tone of the scale\n",
    "    def getTone(self, i):\n",
    "        return self.baseNote.transpose(self.interval[(i-1)%len(self.interval)]);\n",
    "    \n",
    "    def isToneOnScale(self, note):\n",
    "        for i in range(len(self.interval)):\n",
    "           # print(self.baseTranspose(self.interval[i]).name)\n",
    "            if isSameNoteWithoutOctave(self.baseTranspose(self.interval[i]), note):\n",
    "                return True;\n",
    "        return False;\n",
    "    \n",
    "    # Show\n",
    "    def show(self):\n",
    "        m = stream.Measure();\n",
    "        m.append([self.baseNote.transpose(i) for i in self.interval]);     \n",
    "        m.append(self.baseNote.transpose(12));\n",
    "        m.show();"
   ]
  },
  {
   "cell_type": "code",
   "execution_count": null,
   "metadata": {},
   "outputs": [],
   "source": []
  },
  {
   "cell_type": "code",
   "execution_count": 79,
   "metadata": {},
   "outputs": [
    {
     "data": {
      "image/png": "[encoded data removed]",
      "text/plain": [
       "<IPython.core.display.Image object>"
      ]
     },
     "metadata": {
      "image/png": {
       "height": 69,
       "width": 674
      }
     },
     "output_type": "display_data"
    },
    {
     "name": "stdout",
     "output_type": "stream",
     "text": [
      "C\n",
      "D\n",
      "E-\n",
      "True\n"
     ]
    }
   ],
   "source": [
    "s = Scale(note.Note('C0'), scalesIntervalDictionnary[\"minor\"])\n",
    "s.show()\n",
    "print(s.isToneOnScale(note.Note('D#5')));"
   ]
  },
  {
   "cell_type": "code",
   "execution_count": 80,
   "metadata": {},
   "outputs": [
    {
     "data": {
      "text/plain": [
       "7"
      ]
     },
     "execution_count": 80,
     "metadata": {},
     "output_type": "execute_result"
    }
   ],
   "source": [
    "len(scalesIntervalDictionnary[\"major\"])"
   ]
  },
  {
   "cell_type": "markdown",
   "metadata": {},
   "source": [
    "### Chord"
   ]
  },
  {
   "cell_type": "code",
   "execution_count": 304,
   "metadata": {
    "tags": []
   },
   "outputs": [],
   "source": [
    "# Chords type dictionnary\n",
    "chordsDictionnary = {\n",
    "  \"\": [0,4,7],\n",
    "  \"5\": [0,7],\n",
    "  \"m\": [0,3,7],\n",
    "  \"7\": [0,4,7,10],\n",
    "  \"m7\": [0,3,7,10]\n",
    "}\n",
    "\n",
    "# Chord\n",
    "class Chord:\n",
    "    \n",
    "    # Constructor\n",
    "    def __init__(self, _baseNote, _scale):\n",
    "        \n",
    "        self.baseNote = _baseNote;\n",
    "        self.interval = [0]; # 1th and 5th\n",
    "        \n",
    "        if _scale.isToneOnScale(_baseNote.transpose(3)) == True:\n",
    "            self.interval.append(3);\n",
    "        elif _scale.isToneOnScale(_baseNote.transpose(4)) == True:           \n",
    "            self.interval.append(4);\n",
    "            \n",
    "        self.interval.append(7);\n",
    "        \n",
    "        \n",
    "        \n",
    "        \n",
    "    # Define (like a constructor)\n",
    "    def defineByType(self, _baseNote, _type = \"\"):       \n",
    "        self.baseNote = _baseNote;\n",
    "        self.interval = chordsDictionnary[_type];\n",
    "        \n",
    "        \n",
    "   # def __init__(self, *args, **kwargs):   \n",
    "   #     #args -- tuple of anonymous arguments\n",
    "        #kwargs -- dictionary of named arguments\n",
    "     #   print ('args: ', args, ' kwargs: ', kwargs);\n",
    "        \n",
    "     #   self.baseNote = kwargs[\"_baseNote\"];\n",
    "        \n",
    "     #   if kwargs.get(\"_scale\") != None:\n",
    "            \n",
    "        \n",
    "      #  print(kwargs.get(\"michel3\"))\n",
    "     #   print(kwargs.keys())\n",
    "            \n",
    "    def baseTranspose(self, i):\n",
    "        return self.baseNote.transpose(i);\n",
    "    \n",
    "    \n",
    "    def getType(self):\n",
    "        key = getKeyFromValue(chordsDictionnary, self.interval);\n",
    "        if key != None:\n",
    "            return key;\n",
    "        return \"Not in dictionnary\";\n",
    "    \n",
    "    def getName(self):\n",
    "        return self.baseNote.name + self.getType();\n",
    "    \n",
    "    # Major or minor chord\n",
    "    #def isMajor(self):\n",
    "        #if self.type.find(\"m\") == -1:\n",
    "       #     return True;\n",
    "      #  return False;\n",
    "    \n",
    "    #def isMinor(self):\n",
    "     #   return not self.isMajor();\n",
    "    \n",
    "    \n",
    "    \n",
    "    # only for scale ?\n",
    "    #def getTone(self, i): # with i from 1 to 7.\n",
    "        #minor = [0,2,3,5,7,8,10];\n",
    "        #return self.baseTranspose(minor[(i-1)%7]);\n",
    "        #return self.baseNote.transpose(self.scale.interval[(i-1)%7]);$\n",
    "       # return note.Note(3)\n",
    "    \n",
    "    # Get notes\n",
    "    def getNotesWithoutOctave(self):       \n",
    "        n = [self.baseNote.transpose(i) for i in self.interval]; #\n",
    "        return n;\n",
    "    \n",
    "    # Show\n",
    "    def show(self):\n",
    "        c = chord.Chord(self.getNotesWithoutOctave());\n",
    "        c.show();\n",
    "    \n",
    "    \n",
    "    \n",
    "    \n",
    "    \n",
    "    \n",
    "    "
   ]
  },
  {
   "cell_type": "code",
   "execution_count": null,
   "metadata": {},
   "outputs": [],
   "source": []
  },
  {
   "cell_type": "code",
   "execution_count": 292,
   "metadata": {},
   "outputs": [
    {
     "data": {
      "image/png": "[encoded data removed]",
      "text/plain": [
       "<IPython.core.display.Image object>"
      ]
     },
     "metadata": {
      "image/png": {
       "height": 49,
       "width": 674
      }
     },
     "output_type": "display_data"
    }
   ],
   "source": [
    "s = Scale(note.Note(\"C\"), scalesIntervalDictionnary[\"minor\"]);\n",
    "s.show();"
   ]
  },
  {
   "cell_type": "code",
   "execution_count": 309,
   "metadata": {},
   "outputs": [
    {
     "data": {
      "image/png": "[encoded data removed]",
      "text/plain": [
       "<IPython.core.display.Image object>"
      ]
     },
     "metadata": {
      "image/png": {
       "height": 49,
       "width": 213
      }
     },
     "output_type": "display_data"
    },
    {
     "name": "stdout",
     "output_type": "stream",
     "text": [
      "Fm\n",
      "[0, 3, 7]\n",
      "[<music21.note.Note F>, <music21.note.Note G#>, <music21.note.Note C>]\n"
     ]
    }
   ],
   "source": [
    "c = Chord(_baseNote = note.Note(\"F\"), _scale = s);\n",
    "c.show();\n",
    "print(c.getName());\n",
    "print(c.interval)\n",
    "print(c.getNotesWithoutOctave())"
   ]
  },
  {
   "cell_type": "code",
   "execution_count": null,
   "metadata": {},
   "outputs": [],
   "source": []
  },
  {
   "cell_type": "markdown",
   "metadata": {},
   "source": [
    "## NotesRange"
   ]
  },
  {
   "cell_type": "code",
   "execution_count": 270,
   "metadata": {},
   "outputs": [],
   "source": [
    "class NotesRange:\n",
    "    \n",
    "    # Constructor\n",
    "    def __init__(self, _octaveNumber = 8):  \n",
    "        \n",
    "        self.range = {}; # Dictionnary\n",
    "        for o in range(_octaveNumber):\n",
    "            for i in range(0,12):\n",
    "                n = note.Note(pitch = i);\n",
    "                self.range[n.pitch.name + str(o)] = 0;   \n",
    "        \n",
    "        self.range[\"C\" + str(o+1)] = 7; # highest C\n",
    "                \n",
    "                \n",
    "    # Add chance/probability to notes (without octave) \n",
    "    def addChanceToNotesWithoutOctave(self, _notes = [], _probability = []):\n",
    "        \n",
    "        for key in self.range:\n",
    "            for x in range(len(_notes)):\n",
    "                if isSameNoteWithoutOctave(note.Note(key), _notes[x]) == True:\n",
    "                    self.range[key] = self.range[key] + _probability[x];\n",
    "        return;\n",
    "    \n",
    "    \n",
    "    # Function from -1 to +1. Where function(-1) corresponds to the factor of the first note of the NotesRange\n",
    "    def multiplyByFunction(self, _function):\n",
    "              \n",
    "        keysLength = len(self.range.keys());\n",
    "        i = 0;\n",
    "        for key in self.range.keys():      \n",
    "            x = i/(keysLength-1)*2-1;\n",
    "            #print(key + \" \" + str(x));\n",
    "            self.range[key] *= _function(x);   \n",
    "            i += 1;\n",
    "    \n",
    "    # Add another NotesRange\n",
    "    def addNotesRange(self, _noteRange):\n",
    "        for key in self.range.keys():      \n",
    "            self.range[key] += _noteRange.range[key];   \n",
    "            \n",
    "        \n",
    "    # Show \n",
    "    def show(self):\n",
    "        print(self.range);\n",
    "        \n",
    "    # Show Plot\n",
    "    def showPlot(self):\n",
    "        keys = self.range.keys();\n",
    "        values = self.range.values();\n",
    "        plt.bar(keys, values);"
   ]
  },
  {
   "cell_type": "code",
   "execution_count": 265,
   "metadata": {},
   "outputs": [
    {
     "name": "stdout",
     "output_type": "stream",
     "text": [
      "{'C0': 0, 'C#0': 0, 'D0': 0, 'E-0': 0, 'E0': 0, 'F0': 0, 'F#0': 0, 'G0': 0, 'G#0': 0, 'A0': 0, 'B-0': 0, 'B0': 0, 'C1': 0, 'C#1': 0, 'D1': 0, 'E-1': 0, 'E1': 0, 'F1': 0, 'F#1': 0, 'G1': 0, 'G#1': 0, 'A1': 0, 'B-1': 0, 'B1': 0, 'C2': 0, 'C#2': 0, 'D2': 0, 'E-2': 0, 'E2': 0, 'F2': 0, 'F#2': 0, 'G2': 0, 'G#2': 0, 'A2': 0, 'B-2': 0, 'B2': 0, 'C3': 0, 'C#3': 0, 'D3': 0, 'E-3': 0, 'E3': 0, 'F3': 0, 'F#3': 0, 'G3': 0, 'G#3': 0, 'A3': 0, 'B-3': 0, 'B3': 0, 'C4': 0, 'C#4': 0, 'D4': 0, 'E-4': 0, 'E4': 0, 'F4': 0, 'F#4': 0, 'G4': 0, 'G#4': 0, 'A4': 0, 'B-4': 0, 'B4': 0, 'C5': 0, 'C#5': 0, 'D5': 0, 'E-5': 0, 'E5': 0, 'F5': 0, 'F#5': 0, 'G5': 0, 'G#5': 0, 'A5': 0, 'B-5': 0, 'B5': 0, 'C6': 0, 'C#6': 0, 'D6': 0, 'E-6': 0, 'E6': 0, 'F6': 0, 'F#6': 0, 'G6': 0, 'G#6': 0, 'A6': 0, 'B-6': 0, 'B6': 0, 'C7': 0, 'C#7': 0, 'D7': 0, 'E-7': 0, 'E7': 0, 'F7': 0, 'F#7': 0, 'G7': 0, 'G#7': 0, 'A7': 0, 'B-7': 0, 'B7': 0, 'C8': 7}\n",
      "{'C0': 7, 'C#0': 0, 'D0': 0, 'E-0': 0, 'E0': 0, 'F0': 0, 'F#0': 0, 'G0': 0, 'G#0': 0, 'A0': 0, 'B-0': 0, 'B0': 0, 'C1': 7, 'C#1': 0, 'D1': 0, 'E-1': 0, 'E1': 0, 'F1': 0, 'F#1': 0, 'G1': 0, 'G#1': 0, 'A1': 0, 'B-1': 0, 'B1': 0, 'C2': 7, 'C#2': 0, 'D2': 0, 'E-2': 0, 'E2': 0, 'F2': 0, 'F#2': 0, 'G2': 0, 'G#2': 0, 'A2': 0, 'B-2': 0, 'B2': 0, 'C3': 7, 'C#3': 0, 'D3': 0, 'E-3': 0, 'E3': 0, 'F3': 0, 'F#3': 0, 'G3': 0, 'G#3': 0, 'A3': 0, 'B-3': 0, 'B3': 0, 'C4': 7, 'C#4': 0, 'D4': 0, 'E-4': 0, 'E4': 0, 'F4': 0, 'F#4': 0, 'G4': 0, 'G#4': 0, 'A4': 0, 'B-4': 0, 'B4': 0, 'C5': 7, 'C#5': 0, 'D5': 0, 'E-5': 0, 'E5': 0, 'F5': 0, 'F#5': 0, 'G5': 0, 'G#5': 0, 'A5': 0, 'B-5': 0, 'B5': 0, 'C6': 7, 'C#6': 0, 'D6': 0, 'E-6': 0, 'E6': 0, 'F6': 0, 'F#6': 0, 'G6': 0, 'G#6': 0, 'A6': 0, 'B-6': 0, 'B6': 0, 'C7': 7, 'C#7': 0, 'D7': 0, 'E-7': 0, 'E7': 0, 'F7': 0, 'F#7': 0, 'G7': 0, 'G#7': 0, 'A7': 0, 'B-7': 0, 'B7': 0, 'C8': 14}\n",
      "{'C0': 0, 'C#0': 0, 'D0': 0, 'E-0': 0, 'E0': 0, 'F0': 0, 'F#0': 0, 'G0': 0, 'G#0': 0, 'A0': 0, 'B-0': 0, 'B0': 0, 'C1': 0, 'C#1': 0, 'D1': 0, 'E-1': 0, 'E1': 0, 'F1': 0, 'F#1': 0, 'G1': 0, 'G#1': 0, 'A1': 0, 'B-1': 0, 'B1': 0, 'C2': 0, 'C#2': 0, 'D2': 0, 'E-2': 0, 'E2': 0, 'F2': 0, 'F#2': 0, 'G2': 0, 'G#2': 0, 'A2': 0, 'B-2': 0, 'B2': 0, 'C3': 0, 'C#3': 0, 'D3': 0, 'E-3': 0, 'E3': 0, 'F3': 0, 'F#3': 0, 'G3': 0, 'G#3': 0, 'A3': 0, 'B-3': 0, 'B3': 0, 'C4': 21, 'C#4': 0, 'D4': 0, 'E-4': 0, 'E4': 0, 'F4': 0, 'F#4': 0, 'G4': 0, 'G#4': 0, 'A4': 0, 'B-4': 0, 'B4': 0, 'C5': 21, 'C#5': 0, 'D5': 0, 'E-5': 0, 'E5': 0, 'F5': 0, 'F#5': 0, 'G5': 0, 'G#5': 0, 'A5': 0, 'B-5': 0, 'B5': 0, 'C6': 21, 'C#6': 0, 'D6': 0, 'E-6': 0, 'E6': 0, 'F6': 0, 'F#6': 0, 'G6': 0, 'G#6': 0, 'A6': 0, 'B-6': 0, 'B6': 0, 'C7': 21, 'C#7': 0, 'D7': 0, 'E-7': 0, 'E7': 0, 'F7': 0, 'F#7': 0, 'G7': 0, 'G#7': 0, 'A7': 0, 'B-7': 0, 'B7': 0, 'C8': 56}\n",
      "{'C0': 0, 'C#0': 0, 'D0': 0, 'E-0': 0, 'E0': 0, 'F0': 0, 'F#0': 0, 'G0': 0, 'G#0': 0, 'A0': 0, 'B-0': 0, 'B0': 0, 'C1': 0, 'C#1': 0, 'D1': 0, 'E-1': 0, 'E1': 0, 'F1': 0, 'F#1': 0, 'G1': 0, 'G#1': 0, 'A1': 0, 'B-1': 0, 'B1': 0, 'C2': 0, 'C#2': 0, 'D2': 0, 'E-2': 0, 'E2': 0, 'F2': 0, 'F#2': 0, 'G2': 0, 'G#2': 0, 'A2': 0, 'B-2': 0, 'B2': 0, 'C3': 0, 'C#3': 0, 'D3': 0, 'E-3': 0, 'E3': 0, 'F3': 0, 'F#3': 0, 'G3': 0, 'G#3': 0, 'A3': 0, 'B-3': 0, 'B3': 0, 'C4': 42, 'C#4': 0, 'D4': 0, 'E-4': 0, 'E4': 0, 'F4': 0, 'F#4': 0, 'G4': 0, 'G#4': 0, 'A4': 0, 'B-4': 0, 'B4': 0, 'C5': 42, 'C#5': 0, 'D5': 0, 'E-5': 0, 'E5': 0, 'F5': 0, 'F#5': 0, 'G5': 0, 'G#5': 0, 'A5': 0, 'B-5': 0, 'B5': 0, 'C6': 42, 'C#6': 0, 'D6': 0, 'E-6': 0, 'E6': 0, 'F6': 0, 'F#6': 0, 'G6': 0, 'G#6': 0, 'A6': 0, 'B-6': 0, 'B6': 0, 'C7': 42, 'C#7': 0, 'D7': 0, 'E-7': 0, 'E7': 0, 'F7': 0, 'F#7': 0, 'G7': 0, 'G#7': 0, 'A7': 0, 'B-7': 0, 'B7': 0, 'C8': 112}\n"
     ]
    },
    {
     "data": {
      "image/png": "[encoded data removed]",
      "text/plain": [
       "<Figure size 432x288 with 1 Axes>"
      ]
     },
     "metadata": {
      "image/png": {
       "height": 248,
       "width": 375
      },
      "needs_background": "light"
     },
     "output_type": "display_data"
    }
   ],
   "source": [
    "\n",
    "\n",
    "\n",
    "nr = NotesRange();\n",
    "nr.show();\n",
    "\n",
    "nr.addChanceToNotesWithoutOctave([note.Note(\"C\"),note.Note(\"C\")], [2,5]);\n",
    "nr.show()\n",
    "\n",
    "\n",
    "def ff(x): \n",
    "    if x < 0:\n",
    "        return 0;\n",
    "    if x == 1:\n",
    "        return 4;\n",
    "    return 3;\n",
    "\n",
    "nr.showPlot();\n",
    "\n",
    "nr.multiplyByFunction(ff);\n",
    "\n",
    "nr.show();\n",
    "\n",
    "nr.showPlot();\n",
    "\n",
    "nr.addNotesRange(nr);\n",
    "\n",
    "nr.show()\n",
    "\n",
    "nr.showPlot()"
   ]
  },
  {
   "cell_type": "code",
   "execution_count": null,
   "metadata": {},
   "outputs": [],
   "source": []
  },
  {
   "cell_type": "code",
   "execution_count": null,
   "metadata": {},
   "outputs": [],
   "source": []
  },
  {
   "cell_type": "code",
   "execution_count": null,
   "metadata": {},
   "outputs": [],
   "source": []
  },
  {
   "cell_type": "code",
   "execution_count": 84,
   "metadata": {},
   "outputs": [],
   "source": [
    "#c = Chord(\"asdf\",3,4, michel = 4)"
   ]
  },
  {
   "cell_type": "code",
   "execution_count": 85,
   "metadata": {},
   "outputs": [
    {
     "data": {
      "image/png": "[encoded data removed]",
      "text/plain": [
       "<IPython.core.display.Image object>"
      ]
     },
     "metadata": {
      "image/png": {
       "height": 35,
       "width": 180
      }
     },
     "output_type": "display_data"
    }
   ],
   "source": [
    "note.Note('A0').transpose(8).show()"
   ]
  },
  {
   "cell_type": "code",
   "execution_count": 86,
   "metadata": {},
   "outputs": [
    {
     "data": {
      "image/png": "[encoded data removed]",
      "text/plain": [
       "<IPython.core.display.Image object>"
      ]
     },
     "metadata": {
      "image/png": {
       "height": 49,
       "width": 674
      }
     },
     "output_type": "display_data"
    },
    {
     "data": {
      "image/png": "[encoded data removed]",
      "text/plain": [
       "<IPython.core.display.Image object>"
      ]
     },
     "metadata": {
      "image/png": {
       "height": 55,
       "width": 674
      }
     },
     "output_type": "display_data"
    }
   ],
   "source": [
    "majorC = Scale(note.Note('C4'), scalesIntervalDictionnary[\"major\"]);\n",
    "minorA = Scale(note.Note('A3'), scalesIntervalDictionnary[\"minor\"]);\n",
    "\n",
    "majorC.show();\n",
    "minorA.show();"
   ]
  },
  {
   "cell_type": "code",
   "execution_count": 87,
   "metadata": {},
   "outputs": [
    {
     "data": {
      "image/png": "[encoded data removed]",
      "text/plain": [
       "<IPython.core.display.Image object>"
      ]
     },
     "metadata": {
      "image/png": {
       "height": 49,
       "width": 200
      }
     },
     "output_type": "display_data"
    }
   ],
   "source": [
    "s = Chord(note.Note('C4'), \"m7\");\n",
    "s.show();\n",
    "#print(s.isMajor())\n",
    "#print(s.isMinor())"
   ]
  },
  {
   "cell_type": "code",
   "execution_count": null,
   "metadata": {},
   "outputs": [],
   "source": []
  },
  {
   "cell_type": "code",
   "execution_count": null,
   "metadata": {},
   "outputs": [],
   "source": []
  }
 ],
 "metadata": {
  "kernelspec": {
   "display_name": "Python 3",
   "language": "python",
   "name": "python3"
  },
  "language_info": {
   "codemirror_mode": {
    "name": "ipython",
    "version": 3
   },
   "file_extension": ".py",
   "mimetype": "text/x-python",
   "name": "python",
   "nbconvert_exporter": "python",
   "pygments_lexer": "ipython3",
   "version": "3.8.5"
  }
 },
 "nbformat": 4,
 "nbformat_minor": 4
}
