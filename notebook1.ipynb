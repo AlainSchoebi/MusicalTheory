{
 "cells": [
  {
   "cell_type": "markdown",
   "metadata": {},
   "source": [
    "<div class=\"alert alert-success\" role=\"alert\">\n",
    "  <h4 class=\"alert-heading\">Bienvenue</h4>\n",
    "    asdfasdfhave <i>any</i> asdfasdf\n",
    "</div>"
   ]
  },
  {
   "cell_type": "markdown",
   "metadata": {},
   "source": [
    "## Imports"
   ]
  },
  {
   "cell_type": "code",
   "execution_count": 1,
   "metadata": {},
   "outputs": [],
   "source": [
    "# This is a comment\n",
    "# First we import built-in libraries\n",
    "import random                  \n",
    "from fractions import Fraction   \n",
    "\n",
    "# Then some 3rd party libraries\n",
    "import numpy as np\n",
    "import pandas as pd\n",
    "import matplotlib.pyplot as plt\n",
    "from music21 import chord, corpus, environment, meter, midi, note, stream, tempo"
   ]
  },
  {
   "cell_type": "markdown",
   "metadata": {},
   "source": [
    "### MuseScore3 Windows"
   ]
  },
  {
   "cell_type": "code",
   "execution_count": 2,
   "metadata": {},
   "outputs": [],
   "source": [
    "# Windows (adapt Program Files)\n",
    "# musescore_executable = r'C:\\Program Files\\MuseScore 3\\bin\\MuseScore3.exe'\n",
    "\n",
    "# environment.set('musescoreDirectPNGPath', musescore_executable)\n",
    "# environment.set('musicxmlPath', musescore_executable)\n",
    "# environment.set('autoDownload', 'allow')"
   ]
  },
  {
   "cell_type": "markdown",
   "metadata": {},
   "source": [
    "### MuseScore3 Mac"
   ]
  },
  {
   "cell_type": "code",
   "execution_count": 3,
   "metadata": {},
   "outputs": [],
   "source": [
    "# Mac path\n",
    "musescore_executable = '/Applications/MuseScore 3.app/Contents/MacOS/mscore'\n",
    "\n",
    "environment.set('musescoreDirectPNGPath', musescore_executable)\n",
    "environment.set('musicxmlPath', musescore_executable)\n",
    "environment.set('autoDownload', 'allow')"
   ]
  },
  {
   "cell_type": "markdown",
   "metadata": {},
   "source": [
    "# Tools"
   ]
  },
  {
   "cell_type": "code",
   "execution_count": 3,
   "metadata": {},
   "outputs": [],
   "source": [
    "# random numbers\n",
    "random.seed(0);\n",
    "\n",
    "# function to return key for any value\n",
    "def getKeyFromValue(_dictionnary, _value):\n",
    "    for key, value in _dictionnary.items():\n",
    "         if _value == value:\n",
    "             return key\n",
    " \n",
    "    return None; #doesn't exist"
   ]
  },
  {
   "cell_type": "code",
   "execution_count": null,
   "metadata": {},
   "outputs": [],
   "source": []
  },
  {
   "cell_type": "markdown",
   "metadata": {},
   "source": [
    "# Play"
   ]
  },
  {
   "cell_type": "code",
   "execution_count": 4,
   "metadata": {},
   "outputs": [],
   "source": [
    "def play(score):\n",
    "    #Shortcut to play a stream\n",
    "    midi.realtime.StreamPlayer(score).play();"
   ]
  },
  {
   "cell_type": "code",
   "execution_count": null,
   "metadata": {},
   "outputs": [],
   "source": []
  },
  {
   "cell_type": "code",
   "execution_count": null,
   "metadata": {},
   "outputs": [],
   "source": []
  },
  {
   "cell_type": "markdown",
   "metadata": {},
   "source": [
    "# Notes"
   ]
  },
  {
   "cell_type": "code",
   "execution_count": 5,
   "metadata": {},
   "outputs": [
    {
     "data": {
      "image/png": "[encoded data removed]",
      "text/plain": [
       "<IPython.core.display.Image object>"
      ]
     },
     "metadata": {
      "image/png": {
       "height": 57,
       "width": 674
      }
     },
     "output_type": "display_data"
    },
    {
     "name": "stdout",
     "output_type": "stream",
     "text": [
      "pygame 2.0.1 (SDL 2.0.14, Python 3.8.8)\n",
      "Hello from the pygame community. https://www.pygame.org/contribute.html\n"
     ]
    }
   ],
   "source": [
    "notes = [['C'], ['C#', 'Db5'], ['D5'], ['D#', 'Eb'], ['E'], ['F'], ['F#', 'Gb'], ['G'], ['G#','Ab'], ['A'], ['A#','Bb'], ['B']]\n",
    "m = stream.Measure()\n",
    "m.append([chord.Chord([note.Note(name) for name in pitch_class]) for pitch_class in notes]);\n",
    "\n",
    "m.show();\n",
    "play(m);"
   ]
  },
  {
   "cell_type": "code",
   "execution_count": null,
   "metadata": {},
   "outputs": [],
   "source": []
  },
  {
   "cell_type": "code",
   "execution_count": null,
   "metadata": {},
   "outputs": [],
   "source": []
  },
  {
   "cell_type": "code",
   "execution_count": null,
   "metadata": {},
   "outputs": [],
   "source": []
  },
  {
   "cell_type": "code",
   "execution_count": null,
   "metadata": {},
   "outputs": [],
   "source": []
  },
  {
   "cell_type": "code",
   "execution_count": null,
   "metadata": {},
   "outputs": [],
   "source": []
  },
  {
   "cell_type": "code",
   "execution_count": null,
   "metadata": {},
   "outputs": [],
   "source": []
  },
  {
   "cell_type": "code",
   "execution_count": null,
   "metadata": {},
   "outputs": [],
   "source": []
  },
  {
   "cell_type": "code",
   "execution_count": null,
   "metadata": {},
   "outputs": [],
   "source": []
  },
  {
   "cell_type": "markdown",
   "metadata": {},
   "source": [
    "## Scales / Chords"
   ]
  },
  {
   "cell_type": "code",
   "execution_count": 6,
   "metadata": {},
   "outputs": [],
   "source": [
    "def isSameNoteWithoutOctave(note1, note2):\n",
    "    \n",
    "    if note1.pitch.name == note2.pitch.name: \n",
    "        return True;\n",
    "    \n",
    "    # To lose the octave information\n",
    "    n1 = note.Note(pitch = note1.pitch.name);\n",
    "    n2 = note.Note(pitch = note2.pitch.name);\n",
    "    \n",
    "    if n1.pitch.frequency == n2.pitch.frequency:\n",
    "        return True;\n",
    "    \n",
    "    return False;"
   ]
  },
  {
   "cell_type": "code",
   "execution_count": 7,
   "metadata": {},
   "outputs": [
    {
     "name": "stdout",
     "output_type": "stream",
     "text": [
      "True\n"
     ]
    }
   ],
   "source": [
    "d = note.Note(\"D#3\");\n",
    "e = note.Note(\"Eb5\");\n",
    "\n",
    "print(isSameNoteWithoutOctave(d,e));"
   ]
  },
  {
   "cell_type": "markdown",
   "metadata": {},
   "source": [
    "### Scale"
   ]
  },
  {
   "cell_type": "code",
   "execution_count": 8,
   "metadata": {},
   "outputs": [],
   "source": [
    "# Scales interval dictionnary\n",
    "scalesIntervalDictionnary = {\n",
    "  \"major\": [0,2,4,5,7,9,11],\n",
    "  \"minor\": [0,2,3,5,7,8,10],\n",
    "  \"dorian\": [0,3,7] ##\n",
    "}\n",
    "\n",
    "# Scale\n",
    "class Scale:\n",
    "    \n",
    "    # Constructor\n",
    "    def __init__(self, _baseNote = note.Note('C4'), _interval = scalesIntervalDictionnary[\"major\"], _randomBase = False, _randomMinorMajorScale = False):\n",
    "              \n",
    "        if _randomBase == True:\n",
    "            self.baseNote = note.Note(pitch = random.randint(0,11));\n",
    "        else: \n",
    "            self.baseNote = _baseNote;\n",
    "             \n",
    "        if _randomMinorMajorScale == True:\n",
    "            r = random.randint(0,1);\n",
    "            if r == 1:\n",
    "                self.interval = scalesIntervalDictionnary[\"major\"];\n",
    "            else:\n",
    "                self.interval = scalesIntervalDictionnary[\"minor\"];\n",
    "        else:\n",
    "            self.interval = _interval;\n",
    "        \n",
    "    \n",
    "    # Transposes the base note (of i semi tones)\n",
    "    def baseTranspose(self, i):\n",
    "        return self.baseNote.transpose(i);\n",
    "    \n",
    "    # Gets the ith tone of the scale\n",
    "    def getTone(self, i):\n",
    "        return self.baseNote.transpose(self.interval[(i-1)%len(self.interval)]);\n",
    "    \n",
    "    def isToneOnScale(self, note):\n",
    "        for i in range(len(self.interval)):\n",
    "           # print(self.baseTranspose(self.interval[i]).name)\n",
    "            if isSameNoteWithoutOctave(self.baseTranspose(self.interval[i]), note):\n",
    "                return True;\n",
    "        return False;\n",
    "    \n",
    "    # Get notes\n",
    "    def getNotesWithoutOctave(self):       \n",
    "        n = [self.baseNote.transpose(i) for i in self.interval];\n",
    "        return n;\n",
    "    \n",
    "    # Show\n",
    "    def show(self):\n",
    "        m = stream.Measure();\n",
    "        m.append([self.baseNote.transpose(i) for i in self.interval]);     \n",
    "        m.append(self.baseNote.transpose(12));\n",
    "        m.show();"
   ]
  },
  {
   "cell_type": "code",
   "execution_count": null,
   "metadata": {},
   "outputs": [],
   "source": []
  },
  {
   "cell_type": "code",
   "execution_count": null,
   "metadata": {},
   "outputs": [],
   "source": []
  },
  {
   "cell_type": "code",
   "execution_count": null,
   "metadata": {},
   "outputs": [],
   "source": []
  },
  {
   "cell_type": "markdown",
   "metadata": {},
   "source": [
    "### Chord"
   ]
  },
  {
   "cell_type": "code",
   "execution_count": 13,
   "metadata": {
    "tags": []
   },
   "outputs": [],
   "source": [
    "# Chords type dictionnary\n",
    "chordsDictionnary = {\n",
    "  \"\": [0,4,7],\n",
    "  \"5\": [0,7],\n",
    "  \"m\": [0,3,7],\n",
    "  \"7\": [0,4,7,10],\n",
    "  \"m7\": [0,3,7,10]\n",
    "}\n",
    "\n",
    "# Chord\n",
    "class Chord:\n",
    "    \n",
    "    # Constructor\n",
    "    def __init__(self, _baseNote, _scale):\n",
    "\n",
    "        self.baseNote = _baseNote;\n",
    "        self.interval = [0]; # 1th and 5th\n",
    "        \n",
    "        if _scale.isToneOnScale(_baseNote.transpose(3)) == True:\n",
    "            self.interval.append(3);\n",
    "        elif _scale.isToneOnScale(_baseNote.transpose(4)) == True:           \n",
    "            self.interval.append(4);\n",
    "            \n",
    "        self.interval.append(7);\n",
    "        \n",
    "        \n",
    "        \n",
    "    # Define (like a constructor)\n",
    "    def defineByType(self, _baseNote, _type = \"\"):       \n",
    "        self.baseNote = _baseNote;\n",
    "        self.interval = chordsDictionnary[_type];\n",
    "        \n",
    "        \n",
    "   # def __init__(self, *args, **kwargs):   \n",
    "   #     #args -- tuple of anonymous arguments\n",
    "        #kwargs -- dictionary of named arguments\n",
    "     #   print ('args: ', args, ' kwargs: ', kwargs);\n",
    "        \n",
    "     #   self.baseNote = kwargs[\"_baseNote\"];\n",
    "        \n",
    "     #   if kwargs.get(\"_scale\") != None:\n",
    "            \n",
    "        \n",
    "      #  print(kwargs.get(\"michel3\"))\n",
    "     #   print(kwargs.keys())\n",
    "            \n",
    "    def baseTranspose(self, i):\n",
    "        return self.baseNote.transpose(i);\n",
    "    \n",
    "    \n",
    "    def getType(self):\n",
    "        key = getKeyFromValue(chordsDictionnary, self.interval);\n",
    "        if key != None:\n",
    "            return key;\n",
    "        return \"Not in dictionnary\";\n",
    "    \n",
    "    def getName(self):\n",
    "        return self.baseNote.name + self.getType();\n",
    "    \n",
    "    # Major or minor chord\n",
    "    #def isMajor(self):\n",
    "        #if self.type.find(\"m\") == -1:\n",
    "       #     return True;\n",
    "      #  return False;\n",
    "    \n",
    "    #def isMinor(self):\n",
    "     #   return not self.isMajor();\n",
    "    \n",
    "    \n",
    "    \n",
    "    # only for scale ?\n",
    "    #def getTone(self, i): # with i from 1 to 7.\n",
    "        #minor = [0,2,3,5,7,8,10];\n",
    "        #return self.baseTranspose(minor[(i-1)%7]);\n",
    "        #return self.baseNote.transpose(self.scale.interval[(i-1)%7]);$\n",
    "       # return note.Note(3)\n",
    "    \n",
    "    # Get notes\n",
    "    def getNotesWithoutOctave(self):       \n",
    "        n = [self.baseNote.transpose(i) for i in self.interval];\n",
    "        return n;\n",
    "    \n",
    "    \n",
    "    def getNotesWithOctave(self, _octave = 4):       \n",
    "        n = [note.Note(pitch = self.baseNote.transpose(i).pitch.name, octave = _octave) for i in self.interval];\n",
    "        return n;\n",
    "    \n",
    "    \n",
    "    def getChordObject(self):\n",
    "        return chord.Chord(self.getNotesWithOctave());\n",
    "    \n",
    "    # Show\n",
    "    def show(self):\n",
    "        self.getChordObject().show();\n",
    "        \n",
    "    def getText(self):\n",
    "        return self.baseNote.pitch.name + \" \" + self.getType();\n",
    "        \n",
    "    def showText(self):\n",
    "        print(self.getText());\n",
    "    \n",
    "    \n",
    "    \n",
    "    \n",
    "    \n",
    "    \n",
    "    "
   ]
  },
  {
   "cell_type": "code",
   "execution_count": null,
   "metadata": {},
   "outputs": [],
   "source": []
  },
  {
   "cell_type": "code",
   "execution_count": 10,
   "metadata": {},
   "outputs": [
    {
     "data": {
      "image/png": "[encoded data removed]",
      "text/plain": [
       "<IPython.core.display.Image object>"
      ]
     },
     "metadata": {
      "image/png": {
       "height": 49,
       "width": 674
      }
     },
     "output_type": "display_data"
    }
   ],
   "source": [
    "s = Scale(note.Note(\"C\"), scalesIntervalDictionnary[\"minor\"]);\n",
    "s.show();"
   ]
  },
  {
   "cell_type": "code",
   "execution_count": 52,
   "metadata": {},
   "outputs": [
    {
     "data": {
      "image/png": "[encoded data removed]",
      "text/plain": [
       "<IPython.core.display.Image object>"
      ]
     },
     "metadata": {
      "image/png": {
       "height": 49,
       "width": 184
      }
     },
     "output_type": "display_data"
    },
    {
     "name": "stdout",
     "output_type": "stream",
     "text": [
      "F\n",
      "[0, 4, 7]\n",
      "[<music21.note.Note F>, <music21.note.Note A>, <music21.note.Note C>]\n",
      "<music21.note.Note G>\n",
      "G3\n",
      "G\n",
      "3\n",
      "<music21.note.Note C>\n"
     ]
    },
    {
     "data": {
      "image/png": "[encoded data removed]",
      "text/plain": [
       "<IPython.core.display.Image object>"
      ]
     },
     "metadata": {
      "image/png": {
       "height": 33,
       "width": 180
      }
     },
     "output_type": "display_data"
    }
   ],
   "source": [
    "c = Chord(_baseNote = note.Note(\"F\"), _scale = s);\n",
    "c.show();\n",
    "print(c.getName());\n",
    "print(c.interval)\n",
    "print(c.getNotesWithOctave())\n",
    "\n",
    "\n",
    "a = [0,3,7];\n",
    "[note.Note(pitch = note.Note(\"C\").transpose(i).pitch, octave = 1) for i in a]\n",
    "\n",
    "n = note.Note(pitch = note.Note(\"C\").transpose(i).pitch.name, octave = 3)\n",
    "print(n)\n",
    "print(n.pitch)\n",
    "print(n.pitch.name)\n",
    "print(n.pitch.octave)\n",
    "\n",
    "\n",
    "bassNote = note.Note(pitch = \"C\", octave = 3);\n",
    "print(bassNote)\n",
    "bassNote.show()\n"
   ]
  },
  {
   "cell_type": "code",
   "execution_count": null,
   "metadata": {},
   "outputs": [],
   "source": []
  },
  {
   "cell_type": "markdown",
   "metadata": {},
   "source": [
    "## NotesRange"
   ]
  },
  {
   "cell_type": "code",
   "execution_count": 14,
   "metadata": {},
   "outputs": [],
   "source": [
    "class NotesRange:\n",
    "    \n",
    "    # Constructor\n",
    "    def __init__(self, _octaveNumber = 8):  \n",
    "        \n",
    "        self.range = {}; # Dictionnary\n",
    "        for o in range(_octaveNumber):\n",
    "            for i in range(0,12):\n",
    "                n = note.Note(pitch = i);\n",
    "                self.range[n.pitch.name + str(o)] = 0;   \n",
    "        \n",
    "        self.range[\"C\" + str(o+1)] = 0; # highest C\n",
    "                \n",
    "                \n",
    "    # Add chance/probability to notes (without octave) \n",
    "    # if _probability is empty, then all notes' probability will be increased by 1 \n",
    "    def addChanceToNotesWithoutOctave(self, _notes = [], _probabilities = [], _probability = 1):\n",
    "        \n",
    "        if len(_notes) != 0 and len(_probabilities) < len(_notes):\n",
    "            _probabilities = [_probability for i in _notes];\n",
    "        \n",
    "        for key in self.range:\n",
    "            for x in range(len(_notes)):\n",
    "                if isSameNoteWithoutOctave(note.Note(key), _notes[x]) == True:\n",
    "                    self.range[key] += _probabilities[x];\n",
    "        return;\n",
    "    \n",
    "    \n",
    "    def multiplyChanceToNotesWithoutOctave(self, _notes = [], _probabilities = [], _probability = 1):\n",
    "        \n",
    "        if len(_notes) != 0 and len(_probabilities) < len(_notes):\n",
    "            _probabilities = [_probability for i in _notes];\n",
    "        \n",
    "        for key in self.range:\n",
    "            for x in range(len(_notes)):\n",
    "                if isSameNoteWithoutOctave(note.Note(key), _notes[x]) == True:\n",
    "                    self.range[key] *= _probabilities[x];\n",
    "        return;\n",
    "    \n",
    "    \n",
    "    #NEW. 0 is the _zeroNote and then +1 for the next note etc, 12 is the distance for an octave\n",
    "    def multiplyByFunction(self, _function, _zeroNote = note.Note(\"C4\")):              \n",
    "        keysLength = len(self.range.keys());\n",
    "        for key in self.range.keys():             \n",
    "            x = note.Note(key).pitch.midi - _zeroNote.pitch.midi;                     \n",
    "            #print(key + \"  \" + str(x) + \" f(x): \" + str(_function(x)))\n",
    "            self.range[key] *= _function(x);   \n",
    "            \n",
    "    # Add a function to the NotesRange  \n",
    "    def addFunction(self, _function, _zeroNote = note.Note(\"C4\")):\n",
    "              \n",
    "        keysLength = len(self.range.keys());\n",
    "        for key in self.range.keys():             \n",
    "            x = note.Note(key).pitch.midi - _zeroNote.pitch.midi;                     \n",
    "            self.range[key] += _function(x); \n",
    "    \n",
    "    # Add another NotesRange\n",
    "    def addNotesRange(self, _noteRange):\n",
    "        for key in self.range.keys():      \n",
    "            self.range[key] += _noteRange.range[key];   \n",
    "            \n",
    "            \n",
    "    def pickRandomNote(self):\n",
    "        totalProbability = 0;\n",
    "        for key in self.range.keys(): \n",
    "            totalProbability += self.range[key];\n",
    "        \n",
    "        r = random.randint(1,totalProbability);\n",
    "        print(str(totalProbability) +\"  \" + str(r));\n",
    "        \n",
    "        counter = 0;\n",
    "        for key in self.range.keys():\n",
    "            counter += self.range[key];\n",
    "            if counter >= r:\n",
    "                return note.Note(key);          \n",
    "        return None; # empty notesRange\n",
    "    \n",
    "    # Show \n",
    "    def show(self):\n",
    "        txt = \"{ \";\n",
    "        for key in self.range.keys():\n",
    "            value = self.range[key];\n",
    "            if value != 0:\n",
    "                txt += key + \": \" + str(value) + \", \";\n",
    "        print(txt[:-2] + \" }\");\n",
    "        \n",
    "    def showFull(self):\n",
    "        print(self.range);\n",
    "        \n",
    "    # Show Plot\n",
    "    def showPlot(self):\n",
    "        keys = self.range.keys();\n",
    "        values = self.range.values();\n",
    "        plt.bar(keys, values);"
   ]
  },
  {
   "cell_type": "code",
   "execution_count": null,
   "metadata": {},
   "outputs": [],
   "source": []
  },
  {
   "cell_type": "code",
   "execution_count": null,
   "metadata": {},
   "outputs": [],
   "source": []
  },
  {
   "cell_type": "code",
   "execution_count": null,
   "metadata": {},
   "outputs": [],
   "source": []
  },
  {
   "cell_type": "code",
   "execution_count": 51,
   "metadata": {},
   "outputs": [
    {
     "data": {
      "image/png": "[encoded data removed]",
      "text/plain": [
       "<Figure size 432x288 with 1 Axes>"
      ]
     },
     "metadata": {
      "needs_background": "light"
     },
     "output_type": "display_data"
    }
   ],
   "source": [
    "# NotesRange test\n",
    "\n",
    "nr = NotesRange();\n",
    "\n",
    "nr.addChanceToNotesWithoutOctave([note.Note(\"C\"),note.Note(\"D\")], [2,15]);\n",
    "\n",
    "\n",
    "def ff(x): \n",
    "    if x < 0:\n",
    "        return 0;\n",
    "    if x == 0:\n",
    "        return 5;\n",
    "    return 3;\n",
    "\n",
    "\n",
    "nr.multiplyByFunction(ff);\n",
    "nr.showPlot();"
   ]
  },
  {
   "cell_type": "code",
   "execution_count": null,
   "metadata": {},
   "outputs": [],
   "source": []
  },
  {
   "cell_type": "markdown",
   "metadata": {},
   "source": [
    "### Bass test 1"
   ]
  },
  {
   "cell_type": "code",
   "execution_count": 39,
   "metadata": {},
   "outputs": [
    {
     "name": "stdout",
     "output_type": "stream",
     "text": [
      "<music21.note.Note A> [0, 2, 3, 5, 7, 8, 10]\n"
     ]
    },
    {
     "data": {
      "image/png": "[encoded data removed]",
      "text/plain": [
       "<IPython.core.display.Image object>"
      ]
     },
     "metadata": {
      "image/png": {
       "height": 49,
       "width": 674
      }
     },
     "output_type": "display_data"
    },
    {
     "name": "stdout",
     "output_type": "stream",
     "text": [
      "minor\n"
     ]
    },
    {
     "data": {
      "image/png": "[encoded data removed]",
      "text/plain": [
       "<IPython.core.display.Image object>"
      ]
     },
     "metadata": {
      "image/png": {
       "height": 49,
       "width": 184
      }
     },
     "output_type": "display_data"
    },
    {
     "data": {
      "image/png": "[encoded data removed]",
      "text/plain": [
       "<IPython.core.display.Image object>"
      ]
     },
     "metadata": {
      "image/png": {
       "height": 49,
       "width": 184
      }
     },
     "output_type": "display_data"
    },
    {
     "name": "stdout",
     "output_type": "stream",
     "text": [
      "24  22\n",
      "ici\n",
      "<music21.note.Note E>\n"
     ]
    },
    {
     "data": {
      "image/png": "[encoded data removed]",
      "text/plain": [
       "<IPython.core.display.Image object>"
      ]
     },
     "metadata": {
      "image/png": {
       "height": 28,
       "width": 180
      }
     },
     "output_type": "display_data"
    },
    {
     "data": {
      "image/png": "[encoded data removed]",
      "text/plain": [
       "<IPython.core.display.Image object>"
      ]
     },
     "metadata": {
      "image/png": {
       "height": 33,
       "width": 180
      }
     },
     "output_type": "display_data"
    },
    {
     "data": {
      "image/png": "[encoded data removed]",
      "text/plain": [
       "<Figure size 432x288 with 1 Axes>"
      ]
     },
     "metadata": {
      "needs_background": "light"
     },
     "output_type": "display_data"
    }
   ],
   "source": [
    "### Random scale\n",
    "#s = Scale(_randomBase = True, _randomMinorMajorScale = True);\n",
    "s = Scale(note.Note(\"A\"), scalesIntervalDictionnary[\"minor\"])\n",
    "print(s.baseNote, s.interval)\n",
    "s.show();\n",
    "\n",
    "if s.isToneOnScale(s.baseTranspose(3)) == True:\n",
    "    print(\"minor\")\n",
    "else:\n",
    "    print(\"major\")\n",
    "        \n",
    "\n",
    "bassNote = note.Note(pitch = s.baseNote.pitch.name, octave = 2); # A2\n",
    "        \n",
    "c1 = Chord(bassNote, s);\n",
    "c1.show();\n",
    "\n",
    "m = stream.Measure();\n",
    "m.append(c1.getChordObject());\n",
    "m.show();\n",
    "play(m);\n",
    "        \n",
    "nr = NotesRange();\n",
    "nr.addChanceToNotesWithoutOctave(s.getNotesWithoutOctave());\n",
    "#nr.showPlot();\n",
    "\n",
    "nr.addChanceToNotesWithoutOctave(c1.getNotesWithoutOctave(), _probability = 3)\n",
    "\n",
    "nr.multiplyChanceToNotesWithoutOctave([bassNote], _probability = 0); #avoir playing the bass again / optionnal ?\n",
    "\n",
    "#nr.showPlot();\n",
    "\n",
    "c1.getNotesWithoutOctave()\n",
    "\n",
    "\n",
    "def gauss(x):\n",
    "    if x < 12 and x > -12:\n",
    "        return 1;\n",
    "    return 0;\n",
    "\n",
    "nr.multiplyByFunction(gauss, bassNote);\n",
    "nr.showPlot();\n",
    "\n",
    "bassNote2 = nr.pickRandomNote();\n",
    "print(\"ici\")\n",
    "print(bassNote2)\n",
    "bassNote.show();\n",
    "bassNote2.show();"
   ]
  },
  {
   "cell_type": "markdown",
   "metadata": {},
   "source": [
    "### Bass test 2"
   ]
  },
  {
   "cell_type": "code",
   "execution_count": 50,
   "metadata": {},
   "outputs": [
    {
     "name": "stdout",
     "output_type": "stream",
     "text": [
      "Scale: minor <music21.note.Note A> [0, 2, 3, 5, 7, 8, 10]\n"
     ]
    },
    {
     "data": {
      "image/png": "[encoded data removed]",
      "text/plain": [
       "<IPython.core.display.Image object>"
      ]
     },
     "metadata": {
      "image/png": {
       "height": 49,
       "width": 674
      }
     },
     "output_type": "display_data"
    },
    {
     "name": "stdout",
     "output_type": "stream",
     "text": [
      "\n",
      "NotesRange:\n",
      "{ D2: 1, E2: 3, F2: 1, G2: 1, B2: 1, C3: 3 }\n",
      "10  1\n",
      "{ E2: 1, F2: 3, G2: 1, A2: 3, B2: 1, C3: 1 }\n",
      "10  10\n",
      "{ D2: 1, E2: 3, F2: 1, G2: 3, A2: 1, B2: 1 }\n",
      "10  8\n",
      "{ D2: 3, E2: 1, F2: 1, A2: 1, B2: 3, C3: 1 }\n",
      "10  6\n",
      "{ D2: 1, E2: 3, F2: 1, G2: 1, B2: 1, C3: 3 }\n",
      "10  4\n",
      "{ D2: 1, F2: 1, G2: 3, A2: 1, B2: 3, C3: 1 }\n",
      "10  6\n",
      "{ D2: 1, E2: 3, F2: 1, G2: 1, B2: 1, C3: 3 }\n",
      "10  2\n",
      "{ D2: 1, F2: 1, G2: 3, A2: 1, B2: 3, C3: 1 }\n",
      "10  4\n",
      "\n",
      "Chords:\n",
      "0 A m [<music21.note.Note A>, <music21.note.Note C>, <music21.note.Note E>]\n",
      "1 D m [<music21.note.Note D>, <music21.note.Note F>, <music21.note.Note A>]\n",
      "2 C  [<music21.note.Note C>, <music21.note.Note E>, <music21.note.Note G>]\n",
      "3 G  [<music21.note.Note G>, <music21.note.Note B>, <music21.note.Note D>]\n",
      "4 A m [<music21.note.Note A>, <music21.note.Note C>, <music21.note.Note E>]\n",
      "5 E m [<music21.note.Note E>, <music21.note.Note G>, <music21.note.Note B>]\n",
      "6 A m [<music21.note.Note A>, <music21.note.Note C>, <music21.note.Note E>]\n",
      "7 E m [<music21.note.Note E>, <music21.note.Note G>, <music21.note.Note B>]\n"
     ]
    },
    {
     "data": {
      "image/png": "[encoded data removed]",
      "text/plain": [
       "<IPython.core.display.Image object>"
      ]
     },
     "metadata": {
      "image/png": {
       "height": 124,
       "width": 674
      }
     },
     "output_type": "display_data"
    },
    {
     "data": {
      "image/png": "[encoded data removed]",
      "text/plain": [
       "<Figure size 432x288 with 1 Axes>"
      ]
     },
     "metadata": {
      "needs_background": "light"
     },
     "output_type": "display_data"
    }
   ],
   "source": [
    "### Random scale\n",
    "#s = Scale(_randomBase = True, _randomMinorMajorScale = True);\n",
    "s = Scale(note.Note(\"A\"), scalesIntervalDictionnary[\"minor\"]);\n",
    "\n",
    "\n",
    "scaleType = \"minor\";\n",
    "if s.isToneOnScale(s.baseTranspose(3)) == False:\n",
    "    print(\"minor\")\n",
    "print(\"Scale:\", scaleType, s.baseNote, s.interval);\n",
    "s.show();\n",
    "\n",
    "# --> in tools !  $$ give 6 as parameter possible ? $$\n",
    "def gauss(x):\n",
    "    if x <= 6 and x > -6: # >= and > to exactly have one octave\n",
    "        return 1;\n",
    "    return 0;\n",
    "\n",
    "\n",
    "# input\n",
    "octaveRegion = 2;\n",
    "nbr = 8;\n",
    "bassNotes = [];  # stores music21's note.Note()\n",
    "bassChords = []; # stores Chord objects\n",
    "\n",
    "bassNotes.append(note.Note(pitch = s.baseNote.pitch.name, octave = octaveRegion)); # bassNotes[0]\n",
    "bassChords.append(Chord(bassNotes[0], s));                                         # bassChords[0]\n",
    "\n",
    "print(\"\\nNotesRange:\")\n",
    "for i in range(nbr): \n",
    "    nr = NotesRange();\n",
    "    nr.addChanceToNotesWithoutOctave(s.getNotesWithoutOctave()); # notes of the scale\n",
    "    nr.multiplyChanceToNotesWithoutOctave(bassChords[i].getNotesWithoutOctave(), _probability = 3); # notes of the chord from the bassNotes[i]\n",
    "    nr.multiplyChanceToNotesWithoutOctave([bassNotes[i]], _probability = 0); # avoir playing the same bassNotes[i] again\n",
    "    nr.multiplyByFunction(gauss, note.Note(pitch = 6, octave = octaveRegion)); # range, to stay in the octaveRegion\n",
    "        \n",
    "    nr.showPlot();\n",
    "    nr.show();\n",
    "    bassNotes.append(nr.pickRandomNote());     #bassNotes[i+1]\n",
    "    bassChords.append(Chord(bassNotes[i+1], s)); #bassChords[i+1]\n",
    "    \n",
    "\n",
    "print(\"\\nChords:\")\n",
    "score = stream.Score()\n",
    "\n",
    "measureBassNotes = stream.Part();\n",
    "measureBassChords = stream.Part();\n",
    "\n",
    "score.insert(0, measureBassChords);\n",
    "score.insert(0, measureBassNotes);\n",
    "\n",
    "for i in range(nbr):\n",
    "    print(i, bassChords[i].getText(), bassChords[i].getNotesWithoutOctave());  \n",
    "    measureBassChords.append(bassChords[i].getChordObject());\n",
    "    measureBassNotes.append(bassNotes[i]);\n",
    "\n",
    "score.show();\n",
    "play(score);"
   ]
  },
  {
   "cell_type": "code",
   "execution_count": null,
   "metadata": {},
   "outputs": [],
   "source": []
  },
  {
   "cell_type": "code",
   "execution_count": null,
   "metadata": {},
   "outputs": [],
   "source": []
  },
  {
   "cell_type": "code",
   "execution_count": null,
   "metadata": {},
   "outputs": [],
   "source": []
  },
  {
   "cell_type": "code",
   "execution_count": null,
   "metadata": {},
   "outputs": [],
   "source": []
  },
  {
   "cell_type": "code",
   "execution_count": null,
   "metadata": {},
   "outputs": [],
   "source": []
  },
  {
   "cell_type": "code",
   "execution_count": null,
   "metadata": {},
   "outputs": [],
   "source": []
  },
  {
   "cell_type": "code",
   "execution_count": null,
   "metadata": {},
   "outputs": [],
   "source": []
  },
  {
   "cell_type": "code",
   "execution_count": 22,
   "metadata": {},
   "outputs": [],
   "source": []
  },
  {
   "cell_type": "markdown",
   "metadata": {},
   "source": [
    "# Rythm"
   ]
  },
  {
   "cell_type": "code",
   "execution_count": 46,
   "metadata": {},
   "outputs": [],
   "source": [
    "import random\n",
    "from music21 import midi, note, stream, instrument, meter, key\n",
    "import nltk\n",
    "import mchmm\n",
    "from fractions import Fraction"
   ]
  },
  {
   "cell_type": "code",
   "execution_count": 47,
   "metadata": {},
   "outputs": [],
   "source": [
    "def create_percussion(time_sig = None):\n",
    "    if time_sig == None:\n",
    "        drumPart = stream.Measure()\n",
    "    else:\n",
    "        drumPart = stream.Stream()\n",
    "        drumPart.timeSignature = meter.TimeSignature(time_sig)\n",
    "    \n",
    "    drumPart.insert(0, instrument.TomTom()) ##changement d'instrument\n",
    "    return drumPart\n",
    "\n",
    "def append_event(duration, original_stream, rest = False, pitch = 'C4'):\n",
    "    new_stream = original_stream\n",
    "    if rest:\n",
    "        new_stream.append(note.Rest(quarterLength = duration/16*(4*UNIT)))\n",
    "    else:\n",
    "        new_stream.append(percussion_hit(duration, pitch))\n",
    "    return new_stream\n",
    "\n",
    "UNIT = 1\n",
    "def percussion_hit(duration, pitch = \"C4\"):\n",
    "    return note.Note(pitch, quarterLength = duration*(4*UNIT))\n",
    "\n",
    "# Utility function to find ceiling of r in arr[l..h]\n",
    "def findCeil(arr, r, l, h) :\n",
    " \n",
    "    while (l < h) :   \n",
    "        mid = l + ((h - l) >> 1); # Same as mid = (l+h)/2\n",
    "        if r > arr[mid] :\n",
    "            l = mid + 1\n",
    "        else :\n",
    "            h = mid\n",
    "     \n",
    "    if arr[l] >= r :\n",
    "        return l\n",
    "    else :\n",
    "        return -1\n",
    " \n",
    " # The main function that returns a random number\n",
    " # from arr[] according to distribution array\n",
    " # defined by freq[]. n is size of arrays.\n",
    "def myRand(arr, freq, n) :\n",
    "    \n",
    "    # Create and fill prefix array\n",
    "    prefix = [0] * n\n",
    "    prefix[0] = freq[0]\n",
    "    for i in range(n) :\n",
    "        prefix[i] = prefix[i - 1] + freq[i]\n",
    " \n",
    "    # prefix[n-1] is sum of all frequencies.\n",
    "    # Generate a random number with\n",
    "    # value from 1 to this sum\n",
    "    r = random.randint(0, prefix[n - 1]) + 1\n",
    " \n",
    "    # Find index of ceiling of r in prefix arrat\n",
    "    indexc = findCeil(prefix, r, 0, n - 1)\n",
    "    return arr[indexc]\n",
    "    \n",
    "  #---------------------------------------------------------------------------------------------------\n",
    "def generate_random_tree(arr=[], freq=[], n_arr=0, nodelist=[], idx=0, parent=None, depth=0, max_children=4, max_depth=4):\n",
    "    \"\"\"Build a list of nodes in a random tree up to a maximum depth.\n",
    "        :param:    nodelist     list, the nodes in the tree; each node is a list with elements [idx, parent, depth]\n",
    "        :param:    idx          int, the index of a node\n",
    "        :param:    parent       int, the index of the node's parent\n",
    "        :param:    depth        int, the distance of a node from the root\n",
    "        :param:    max_children int, the maximum number of children a node can have\n",
    "        :param:    max_depth    int, the maximum distance from the tree to the root\"\"\"\n",
    "    if 0 <= depth < max_depth:\n",
    "        # add a random number of children\n",
    "        n = random.randint(0, max_children)\n",
    "        nodelist.extend([[idx+i, parent, depth, myRand(arr, freq, n_arr)] for i in range(n)])  \n",
    "\n",
    "        # for each new child, add new children\n",
    "        [generate_random_tree(arr, freq, n_arr, nodelist, len(nodelist), idx+i, depth+1, max_children, max_depth) for i in range(n)]\n",
    "\n",
    "    elif depth == max_depth:\n",
    "        # add a random number of leaves\n",
    "        n = random.randint(0, max_children)\n",
    "        nodelist.extend([[idx+i, parent, depth, myRand(arr, freq, n_arr)] for i in range(n)])  \n",
    "        return\n",
    "     \n",
    " #---------------------------------------------------------------------------------------------------\n",
    "def get_path():\n",
    "    tree = [[0, None, 0, 1]]\n",
    "    generate_random_tree(arr, freq, n_arr, nodelist=tree, idx=len(tree), parent=0, depth=1, max_children=2, max_depth=10)\n",
    "\n",
    "    parent = 0\n",
    "    path = []\n",
    "    child = []\n",
    "    children = 0\n",
    "\n",
    "    while children == 0:\n",
    "        children = 1\n",
    "\n",
    "        for x in range(len(tree)):\n",
    "            if tree[x][1] == parent: #on a trouvé des enfants\n",
    "                child.append(tree[x][0])\n",
    "                children = 0\n",
    "        if child:\n",
    "            rdm = child[random.randint(0, len(child)-1)]\n",
    "            path.append(1/tree[rdm][3] * 3)\n",
    "            parent = tree[rdm][0]\n",
    "    \n",
    "    return path;\n",
    "\n",
    " #---------------------------------------------------------------------------------------------------\n",
    "\n",
    "# Constants\n",
    "    \n",
    "arr = [1, 2, 3, 4, 5, 6];\n",
    "freq = [10, 40, 50, 20, 40, 55]; ######## variables pour changer le rythme.\n",
    "\n",
    " #---------------------------------------------------------------------------------------------------\n",
    "\n",
    "random.seed(0)\n",
    "s = \"\";\n",
    "n_arr = len(arr)\n",
    "\n",
    "def rhythm_from_sequence2(durations, time_sig = None, pitch = 'C4', rhythm=None):\n",
    "    #Generate rhythmic stream from a list of durations. Rests are indicated by specifying a duration as a string\n",
    "    if rhythm is None:\n",
    "        # pass an existing stream 'rhythm' to append the durations, otherwise a new one will be created\n",
    "        rhythm = create_percussion(time_sig = time_sig)\n",
    "    for dur in durations:\n",
    "        is_rest = False\n",
    "        if dur != 0:\n",
    "            rhythm = append_event(dur, rhythm, rest = is_rest, pitch = pitch) \n",
    "    return rhythm"
   ]
  },
  {
   "cell_type": "code",
   "execution_count": 48,
   "metadata": {},
   "outputs": [
    {
     "data": {
      "image/png": "[encoded data removed]",
      "text/plain": [
       "<IPython.core.display.Image object>"
      ]
     },
     "metadata": {
      "image/png": {
       "height": 323,
       "width": 708
      }
     },
     "output_type": "display_data"
    }
   ],
   "source": [
    "path = get_path();\n",
    "path_rhythm = create_percussion(time_sig = '4/4')\n",
    "path_rhythm = rhythm_from_sequence2(path, rhythm=path_rhythm)\n",
    "path_rhythm.show()"
   ]
  },
  {
   "cell_type": "code",
   "execution_count": 49,
   "metadata": {},
   "outputs": [],
   "source": [
    "play(path_rhythm)"
   ]
  },
  {
   "cell_type": "code",
   "execution_count": null,
   "metadata": {},
   "outputs": [],
   "source": []
  }
 ],
 "metadata": {
  "kernelspec": {
   "display_name": "Python 3",
   "language": "python",
   "name": "python3"
  },
  "language_info": {
   "codemirror_mode": {
    "name": "ipython",
    "version": 3
   },
   "file_extension": ".py",
   "mimetype": "text/x-python",
   "name": "python",
   "nbconvert_exporter": "python",
   "pygments_lexer": "ipython3",
   "version": "3.8.8"
  }
 },
 "nbformat": 4,
 "nbformat_minor": 4
}
