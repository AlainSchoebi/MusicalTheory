{
 "cells": [
  {
   "cell_type": "markdown",
   "metadata": {},
   "source": [
    "<div class=\"alert alert-success\" role=\"alert\">\n",
    "  <h4 class=\"alert-heading\">Bienvenue</h4>\n",
    "    asdfasdfhave <i>any</i> asdfasdf\n",
    "</div>"
   ]
  },
  {
   "cell_type": "markdown",
   "metadata": {},
   "source": [
    "## Imports"
   ]
  },
  {
   "cell_type": "code",
   "execution_count": 248,
   "metadata": {},
   "outputs": [],
   "source": [
    "# This is a comment\n",
    "# First we import built-in libraries\n",
    "import random                  \n",
    "from fractions import Fraction   \n",
    "\n",
    "# Then some 3rd party libraries\n",
    "import numpy as np\n",
    "import pandas as pd\n",
    "from music21 import chord, corpus, environment, meter, midi, note, stream, tempo"
   ]
  },
  {
   "cell_type": "markdown",
   "metadata": {},
   "source": [
    "### MuseScore3 Windows"
   ]
  },
  {
   "cell_type": "code",
   "execution_count": 249,
   "metadata": {},
   "outputs": [],
   "source": [
    "# Windows (adapt Program Files)\n",
    "musescore_executable = r'C:\\Program Files\\MuseScore 3\\bin\\MuseScore3.exe'\n",
    "\n",
    "environment.set('musescoreDirectPNGPath', musescore_executable)\n",
    "environment.set('musicxmlPath', musescore_executable)\n",
    "environment.set('autoDownload', 'allow')"
   ]
  },
  {
   "cell_type": "markdown",
   "metadata": {},
   "source": [
    "### MuseScore3 Mac"
   ]
  },
  {
   "cell_type": "code",
   "execution_count": 3,
   "metadata": {},
   "outputs": [
    {
     "ename": "UserSettingsException",
     "evalue": "attempting to set a value to a path that does not exist: \\Applications\\MuseScore 3.app\\Contents\\MacOS\\mscore",
     "output_type": "error",
     "traceback": [
      "\u001b[1;31m---------------------------------------------------------------------------\u001b[0m",
      "\u001b[1;31mUserSettingsException\u001b[0m                     Traceback (most recent call last)",
      "\u001b[1;32m<ipython-input-3-16c7e1384a41>\u001b[0m in \u001b[0;36m<module>\u001b[1;34m\u001b[0m\n\u001b[0;32m      2\u001b[0m \u001b[0mmusescore_executable\u001b[0m \u001b[1;33m=\u001b[0m \u001b[1;34m'/Applications/MuseScore 3.app/Contents/MacOS/mscore'\u001b[0m\u001b[1;33m\u001b[0m\u001b[1;33m\u001b[0m\u001b[0m\n\u001b[0;32m      3\u001b[0m \u001b[1;33m\u001b[0m\u001b[0m\n\u001b[1;32m----> 4\u001b[1;33m \u001b[0menvironment\u001b[0m\u001b[1;33m.\u001b[0m\u001b[0mset\u001b[0m\u001b[1;33m(\u001b[0m\u001b[1;34m'musescoreDirectPNGPath'\u001b[0m\u001b[1;33m,\u001b[0m \u001b[0mmusescore_executable\u001b[0m\u001b[1;33m)\u001b[0m\u001b[1;33m\u001b[0m\u001b[1;33m\u001b[0m\u001b[0m\n\u001b[0m\u001b[0;32m      5\u001b[0m \u001b[0menvironment\u001b[0m\u001b[1;33m.\u001b[0m\u001b[0mset\u001b[0m\u001b[1;33m(\u001b[0m\u001b[1;34m'musicxmlPath'\u001b[0m\u001b[1;33m,\u001b[0m \u001b[0mmusescore_executable\u001b[0m\u001b[1;33m)\u001b[0m\u001b[1;33m\u001b[0m\u001b[1;33m\u001b[0m\u001b[0m\n\u001b[0;32m      6\u001b[0m \u001b[0menvironment\u001b[0m\u001b[1;33m.\u001b[0m\u001b[0mset\u001b[0m\u001b[1;33m(\u001b[0m\u001b[1;34m'autoDownload'\u001b[0m\u001b[1;33m,\u001b[0m \u001b[1;34m'allow'\u001b[0m\u001b[1;33m)\u001b[0m\u001b[1;33m\u001b[0m\u001b[1;33m\u001b[0m\u001b[0m\n",
      "\u001b[1;32m~\\anaconda3\\envs\\algo\\lib\\site-packages\\music21\\environment.py\u001b[0m in \u001b[0;36mset\u001b[1;34m(key, value)\u001b[0m\n\u001b[0;32m   1367\u001b[0m     \u001b[1;32mexcept\u001b[0m \u001b[0mUserSettingsException\u001b[0m\u001b[1;33m:\u001b[0m\u001b[1;33m\u001b[0m\u001b[1;33m\u001b[0m\u001b[0m\n\u001b[0;32m   1368\u001b[0m         \u001b[1;32mpass\u001b[0m  \u001b[1;31m# this means it already exists\u001b[0m\u001b[1;33m\u001b[0m\u001b[1;33m\u001b[0m\u001b[0m\n\u001b[1;32m-> 1369\u001b[1;33m     \u001b[0mus\u001b[0m\u001b[1;33m[\u001b[0m\u001b[0mkey\u001b[0m\u001b[1;33m]\u001b[0m \u001b[1;33m=\u001b[0m \u001b[0mvalue\u001b[0m  \u001b[1;31m# this may raise an exception\u001b[0m\u001b[1;33m\u001b[0m\u001b[1;33m\u001b[0m\u001b[0m\n\u001b[0m\u001b[0;32m   1370\u001b[0m \u001b[1;33m\u001b[0m\u001b[0m\n\u001b[0;32m   1371\u001b[0m \u001b[1;33m\u001b[0m\u001b[0m\n",
      "\u001b[1;32m~\\anaconda3\\envs\\algo\\lib\\site-packages\\music21\\environment.py\u001b[0m in \u001b[0;36m__setitem__\u001b[1;34m(self, key, value)\u001b[0m\n\u001b[0;32m   1266\u001b[0m                 \u001b[0mvalue\u001b[0m \u001b[1;33m=\u001b[0m \u001b[0mcommon\u001b[0m\u001b[1;33m.\u001b[0m\u001b[0mcleanpath\u001b[0m\u001b[1;33m(\u001b[0m\u001b[0mvalue\u001b[0m\u001b[1;33m,\u001b[0m \u001b[0mreturnPathlib\u001b[0m\u001b[1;33m=\u001b[0m\u001b[1;32mFalse\u001b[0m\u001b[1;33m)\u001b[0m\u001b[1;33m\u001b[0m\u001b[1;33m\u001b[0m\u001b[0m\n\u001b[0;32m   1267\u001b[0m                 \u001b[1;32mif\u001b[0m \u001b[1;32mnot\u001b[0m \u001b[0mos\u001b[0m\u001b[1;33m.\u001b[0m\u001b[0mpath\u001b[0m\u001b[1;33m.\u001b[0m\u001b[0mexists\u001b[0m\u001b[1;33m(\u001b[0m\u001b[0mvalue\u001b[0m\u001b[1;33m)\u001b[0m\u001b[1;33m:\u001b[0m\u001b[1;33m\u001b[0m\u001b[1;33m\u001b[0m\u001b[0m\n\u001b[1;32m-> 1268\u001b[1;33m                     raise UserSettingsException(\n\u001b[0m\u001b[0;32m   1269\u001b[0m                         f'attempting to set a value to a path that does not exist: {value}')\n\u001b[0;32m   1270\u001b[0m         \u001b[1;31m# when setting a local corpus setting, if not a list, append\u001b[0m\u001b[1;33m\u001b[0m\u001b[1;33m\u001b[0m\u001b[1;33m\u001b[0m\u001b[0m\n",
      "\u001b[1;31mUserSettingsException\u001b[0m: attempting to set a value to a path that does not exist: \\Applications\\MuseScore 3.app\\Contents\\MacOS\\mscore"
     ]
    }
   ],
   "source": [
    "# Mac path\n",
    "musescore_executable = '/Applications/MuseScore 3.app/Contents/MacOS/mscore'\n",
    "\n",
    "environment.set('musescoreDirectPNGPath', musescore_executable)\n",
    "environment.set('musicxmlPath', musescore_executable)\n",
    "environment.set('autoDownload', 'allow')"
   ]
  },
  {
   "cell_type": "markdown",
   "metadata": {},
   "source": [
    "# Play"
   ]
  },
  {
   "cell_type": "code",
   "execution_count": 250,
   "metadata": {},
   "outputs": [],
   "source": [
    "def play(score):\n",
    "    #Shortcut to play a stream\n",
    "    midi.realtime.StreamPlayer(score).play();"
   ]
  },
  {
   "cell_type": "code",
   "execution_count": null,
   "metadata": {},
   "outputs": [],
   "source": []
  },
  {
   "cell_type": "code",
   "execution_count": null,
   "metadata": {},
   "outputs": [],
   "source": []
  },
  {
   "cell_type": "markdown",
   "metadata": {},
   "source": [
    "# Notes"
   ]
  },
  {
   "cell_type": "code",
   "execution_count": 251,
   "metadata": {},
   "outputs": [
    {
     "data": {
      "image/png": "[encoded data removed]",
      "text/plain": [
       "<IPython.core.display.Image object>"
      ]
     },
     "metadata": {
      "image/png": {
       "height": 57,
       "width": 674
      }
     },
     "output_type": "display_data"
    }
   ],
   "source": [
    "notes = [['C'], ['C#', 'Db5'], ['D5'], ['D#', 'Eb'], ['E'], ['F'], ['F#', 'Gb'], ['G'], ['G#','Ab'], ['A'], ['A#','Bb'], ['B']]\n",
    "m = stream.Measure()\n",
    "m.append([chord.Chord([note.Note(name) for name in pitch_class]) for pitch_class in notes]);\n",
    "\n",
    "m.show();\n",
    "play(m);"
   ]
  },
  {
   "cell_type": "code",
   "execution_count": null,
   "metadata": {},
   "outputs": [],
   "source": []
  },
  {
   "cell_type": "code",
   "execution_count": null,
   "metadata": {},
   "outputs": [],
   "source": []
  },
  {
   "cell_type": "code",
   "execution_count": null,
   "metadata": {},
   "outputs": [],
   "source": []
  },
  {
   "cell_type": "markdown",
   "metadata": {},
   "source": [
    "# Minor scale"
   ]
  },
  {
   "cell_type": "code",
   "execution_count": 252,
   "metadata": {},
   "outputs": [],
   "source": [
    "n = note.Note(pitch = 57)"
   ]
  },
  {
   "cell_type": "code",
   "execution_count": null,
   "metadata": {},
   "outputs": [],
   "source": []
  },
  {
   "cell_type": "code",
   "execution_count": 253,
   "metadata": {},
   "outputs": [
    {
     "data": {
      "image/png": "[encoded data removed]",
      "text/plain": [
       "<IPython.core.display.Image object>"
      ]
     },
     "metadata": {
      "image/png": {
       "height": 60,
       "width": 250
      }
     },
     "output_type": "display_data"
    }
   ],
   "source": [
    "m = stream.Measure()\n",
    "m.append(n)\n",
    "m.append(chord.Chord([note.Note('C'), note.Note('D')]));\n",
    "m.show()\n",
    "play(m)"
   ]
  },
  {
   "cell_type": "code",
   "execution_count": null,
   "metadata": {},
   "outputs": [],
   "source": []
  },
  {
   "cell_type": "code",
   "execution_count": 254,
   "metadata": {},
   "outputs": [],
   "source": [
    "n = note.Note(pitch = 57)"
   ]
  },
  {
   "cell_type": "code",
   "execution_count": null,
   "metadata": {},
   "outputs": [],
   "source": []
  },
  {
   "cell_type": "markdown",
   "metadata": {},
   "source": [
    "## Scales / Chords"
   ]
  },
  {
   "cell_type": "code",
   "execution_count": null,
   "metadata": {},
   "outputs": [],
   "source": []
  },
  {
   "cell_type": "code",
   "execution_count": 255,
   "metadata": {},
   "outputs": [],
   "source": [
    "def isSameNote(note1, note2):\n",
    "    \n",
    "    if note1.pitch.name == note2.pitch.name: \n",
    "        return True;\n",
    "    \n",
    "    # To lose the octave information\n",
    "    n1 = note.Note(pitch = note1.pitch.name);\n",
    "    n2 = note.Note(pitch = note2.pitch.name);\n",
    "    \n",
    "    if n1.pitch.frequency == n2.pitch.frequency:\n",
    "        return True;\n",
    "    \n",
    "    return False;"
   ]
  },
  {
   "cell_type": "code",
   "execution_count": 256,
   "metadata": {},
   "outputs": [
    {
     "name": "stdout",
     "output_type": "stream",
     "text": [
      "True\n"
     ]
    }
   ],
   "source": [
    "d = note.Note(\"D#3\");\n",
    "e = note.Note(\"Eb5\");\n",
    "\n",
    "print(isSameNote(d,e));"
   ]
  },
  {
   "cell_type": "markdown",
   "metadata": {},
   "source": [
    "### Scale"
   ]
  },
  {
   "cell_type": "code",
   "execution_count": 257,
   "metadata": {},
   "outputs": [],
   "source": [
    "# Scales interval dictionnary\n",
    "scalesIntervalDictionnary = {\n",
    "  \"major\": [0,2,4,5,7,9,11],\n",
    "  \"minor\": [0,2,3,5,7,8,10],\n",
    "  \"dorian\": [0,3,7] ##\n",
    "}\n",
    "\n",
    "# Scale\n",
    "class Scale:\n",
    "    \n",
    "    # Constructor\n",
    "    def __init__(self, _baseNote = note.Note('C4'), _interval = scalesIntervalDictionnary[\"major\"]):\n",
    "        self.baseNote = _baseNote;\n",
    "        self.interval = _interval;\n",
    "    \n",
    "    # Transposes the base note (of i semi tones)\n",
    "    def baseTranspose(self, i):\n",
    "        return self.baseNote.transpose(i);\n",
    "    \n",
    "    # Gets the ith tone of the scale\n",
    "    def getTone(self, i):\n",
    "        return self.baseNote.transpose(self.interval[(i-1)%len(self.interval)]);\n",
    "    \n",
    "    def isToneOnScale(self, note):\n",
    "        for i in range(len(self.interval)):\n",
    "            print(self.baseTranspose(self.interval[i]).name)\n",
    "            if isSameNote(self.baseTranspose(self.interval[i]), note):\n",
    "                return True;\n",
    "        return False;\n",
    "    \n",
    "    # Show\n",
    "    def show(self):\n",
    "        m = stream.Measure();\n",
    "        m.append([self.baseNote.transpose(i) for i in self.interval]);     \n",
    "        m.append(self.baseNote.transpose(12));\n",
    "        m.show();"
   ]
  },
  {
   "cell_type": "code",
   "execution_count": null,
   "metadata": {},
   "outputs": [],
   "source": []
  },
  {
   "cell_type": "code",
   "execution_count": 258,
   "metadata": {},
   "outputs": [
    {
     "data": {
      "image/png": "[encoded data removed]",
      "text/plain": [
       "<IPython.core.display.Image object>"
      ]
     },
     "metadata": {
      "image/png": {
       "height": 69,
       "width": 674
      }
     },
     "output_type": "display_data"
    },
    {
     "name": "stdout",
     "output_type": "stream",
     "text": [
      "C\n",
      "D\n",
      "E-\n",
      "True\n"
     ]
    }
   ],
   "source": [
    "s = Scale(note.Note('C0'),scalesIntervalDictionnary[\"minor\"])\n",
    "s.show()\n",
    "print(s.isToneOnScale(note.Note('D#5')));"
   ]
  },
  {
   "cell_type": "code",
   "execution_count": 259,
   "metadata": {},
   "outputs": [
    {
     "data": {
      "text/plain": [
       "7"
      ]
     },
     "execution_count": 259,
     "metadata": {},
     "output_type": "execute_result"
    }
   ],
   "source": [
    "len(scalesIntervalDictionnary[\"major\"])"
   ]
  },
  {
   "cell_type": "markdown",
   "metadata": {},
   "source": [
    "### Chord"
   ]
  },
  {
   "cell_type": "code",
   "execution_count": 261,
   "metadata": {},
   "outputs": [],
   "source": [
    "# Chords type dictionnary\n",
    "chordsDictionnary = {\n",
    "  \"\": [0,4,7],\n",
    "  \"5\": [0,7],\n",
    "  \"m\": [0,3,7],\n",
    "  \"7\": [0,4,7,10],\n",
    "  \"m7\": [0,3,7,10]\n",
    "}\n",
    "\n",
    "# Chord\n",
    "class Chord:\n",
    "    \n",
    "    # Constructor\n",
    "    def __init__(self, _baseNote, _type = \"\"): # minor = boolean\n",
    "        self.baseNote = _baseNote;\n",
    "        self.type = _type;\n",
    "        \n",
    "        \n",
    "   # def __init__(self, *args, **kwargs):   \n",
    "   #     #args -- tuple of anonymous arguments\n",
    "        #kwargs -- dictionary of named arguments\n",
    "     #   print ('args: ', args, ' kwargs: ', kwargs);\n",
    "        \n",
    "     #   self.baseNote = kwargs[\"_baseNote\"];\n",
    "        \n",
    "     #   if kwargs.get(\"_scale\") != None:\n",
    "            \n",
    "        \n",
    "      #  print(kwargs.get(\"michel3\"))\n",
    "     #   print(kwargs.keys())\n",
    "            \n",
    "    def baseTranspose(self, i):\n",
    "        return self.baseNote.transpose(i);\n",
    "    \n",
    "    \n",
    "    # Major or minor chord\n",
    "    def isMajor(self):\n",
    "        if self.type.find(\"m\") == -1:\n",
    "            return True;\n",
    "        return False;\n",
    "    \n",
    "    def isMinor(self):\n",
    "        return not self.isMajor();\n",
    "    \n",
    "    # \n",
    "    def getTone(self, i): # with i from 1 to 7.\n",
    "        #minor = [0,2,3,5,7,8,10];\n",
    "        #return self.baseTranspose(minor[(i-1)%7]);\n",
    "        #return self.baseNote.transpose(self.scale.interval[(i-1)%7]);$\n",
    "        return note.Note(3)\n",
    "    \n",
    "    # Show\n",
    "    def show(self):\n",
    "        c = chord.Chord([self.baseNote.transpose(i) for i in chordsDictionnary[self.type]]);\n",
    "        c.show();\n",
    "    \n",
    "    \n",
    "    \n",
    "    \n",
    "\n",
    "        \n",
    "    "
   ]
  },
  {
   "cell_type": "code",
   "execution_count": 263,
   "metadata": {},
   "outputs": [],
   "source": [
    "#c = Chord(\"asdf\",3,4, michel = 4)"
   ]
  },
  {
   "cell_type": "code",
   "execution_count": 264,
   "metadata": {},
   "outputs": [
    {
     "data": {
      "image/png": "[encoded data removed]",
      "text/plain": [
       "<IPython.core.display.Image object>"
      ]
     },
     "metadata": {
      "image/png": {
       "height": 35,
       "width": 180
      }
     },
     "output_type": "display_data"
    }
   ],
   "source": [
    "note.Note('A0').transpose(8).show()"
   ]
  },
  {
   "cell_type": "code",
   "execution_count": 265,
   "metadata": {},
   "outputs": [
    {
     "data": {
      "image/png": "[encoded data removed]",
      "text/plain": [
       "<IPython.core.display.Image object>"
      ]
     },
     "metadata": {
      "image/png": {
       "height": 49,
       "width": 674
      }
     },
     "output_type": "display_data"
    },
    {
     "data": {
      "image/png": "[encoded data removed]",
      "text/plain": [
       "<IPython.core.display.Image object>"
      ]
     },
     "metadata": {
      "image/png": {
       "height": 55,
       "width": 674
      }
     },
     "output_type": "display_data"
    }
   ],
   "source": [
    "majorC = Scale(note.Note('C4'), scalesIntervalDictionnary[\"major\"]);\n",
    "minorA = Scale(note.Note('A3'), scalesIntervalDictionnary[\"minor\"]);\n",
    "\n",
    "majorC.show();\n",
    "minorA.show();"
   ]
  },
  {
   "cell_type": "code",
   "execution_count": 266,
   "metadata": {},
   "outputs": [
    {
     "data": {
      "image/png": "[encoded data removed]",
      "text/plain": [
       "<IPython.core.display.Image object>"
      ]
     },
     "metadata": {
      "image/png": {
       "height": 49,
       "width": 200
      }
     },
     "output_type": "display_data"
    },
    {
     "name": "stdout",
     "output_type": "stream",
     "text": [
      "False\n",
      "True\n"
     ]
    }
   ],
   "source": [
    "s = Chord(note.Note('C4'), \"m7\");\n",
    "s.show();\n",
    "print(s.isMajor())\n",
    "print(s.isMinor())"
   ]
  },
  {
   "cell_type": "code",
   "execution_count": null,
   "metadata": {},
   "outputs": [],
   "source": []
  },
  {
   "cell_type": "code",
   "execution_count": null,
   "metadata": {},
   "outputs": [],
   "source": []
  }
 ],
 "metadata": {
  "kernelspec": {
   "display_name": "Python 3",
   "language": "python",
   "name": "python3"
  },
  "language_info": {
   "codemirror_mode": {
    "name": "ipython",
    "version": 3
   },
   "file_extension": ".py",
   "mimetype": "text/x-python",
   "name": "python",
   "nbconvert_exporter": "python",
   "pygments_lexer": "ipython3",
   "version": "3.8.5"
  }
 },
 "nbformat": 4,
 "nbformat_minor": 4
}
